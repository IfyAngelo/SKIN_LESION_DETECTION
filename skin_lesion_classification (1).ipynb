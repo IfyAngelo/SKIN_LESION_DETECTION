{
  "cells": [
    {
      "cell_type": "markdown",
      "source": [
        "# **SKIN LESION DETECTION ALGORITHM**"
      ],
      "metadata": {
        "id": "uhml88uR9Bfr"
      }
    },
    {
      "cell_type": "code",
      "execution_count": null,
      "metadata": {
        "colab": {
          "base_uri": "https://localhost:8080/"
        },
        "id": "axJNM7FWLuny",
        "outputId": "ed88d24d-e820-48b6-b445-e63477deb765"
      },
      "outputs": [
        {
          "data": {
            "text/plain": [
              "<function tensorflow.python.compat.v2_compat.disable_v2_behavior()>"
            ]
          },
          "execution_count": 1,
          "metadata": {},
          "output_type": "execute_result"
        }
      ],
      "source": [
        "! pip install -q kaggle\n",
        "\n",
        "%matplotlib inline\n",
        "\n",
        "import itertools\n",
        "import os\n",
        "\n",
        "import matplotlib.pyplot as plt\n",
        "import tensorflow as tf\n",
        "import numpy as np\n",
        "import pandas as pd\n",
        "import seaborn as sns\n",
        "\n",
        "from glob import glob\n",
        "from PIL import Image\n",
        "from sklearn.metrics import confusion_matrix\n",
        "from tensorflow import keras\n",
        "from tensorflow.keras.utils import to_categorical # used for converting labels to one-hot-encoding\n",
        "from tensorflow.keras.models import Sequential\n",
        "from tensorflow.keras.layers import Dense, Dropout, Flatten, Conv2D, MaxPool2D\n",
        "from tensorflow.keras import backend as K\n",
        "from sklearn.model_selection import train_test_split\n",
        "from tensorflow.keras.preprocessing.image import ImageDataGenerator\n",
        "from sklearn import metrics\n",
        "from tensorflow.keras.applications.xception import Xception\n",
        "from tensorflow.compat.v1.keras.applications.inception_v3 import InceptionV3\n",
        "from tensorflow.keras import regularizers\n",
        "from tensorflow.keras.optimizers import Adam, SGD\n",
        "from tensorflow.keras.layers import AveragePooling2D,GlobalMaxPooling2D\n",
        "from tensorflow.keras.layers import BatchNormalization\n",
        "from tensorflow.keras.callbacks import ReduceLROnPlateau, EarlyStopping\n",
        "from sklearn import metrics\n",
        "\n",
        "from google.colab import files\n",
        "\n",
        "np.random.seed(123)\n",
        "tf.compat.v1.disable_v2_behavior"
      ]
    },
    {
      "cell_type": "code",
      "execution_count": null,
      "metadata": {
        "colab": {
          "base_uri": "https://localhost:8080/",
          "height": 88
        },
        "id": "WWhVs7PwLw6b",
        "outputId": "36540c2d-cbff-47c2-ccd6-05638216d840"
      },
      "outputs": [
        {
          "data": {
            "text/html": [
              "\n",
              "     <input type=\"file\" id=\"files-de8c3d68-2a61-4a20-ac7b-655b8d025f74\" name=\"files[]\" multiple disabled\n",
              "        style=\"border:none\" />\n",
              "     <output id=\"result-de8c3d68-2a61-4a20-ac7b-655b8d025f74\">\n",
              "      Upload widget is only available when the cell has been executed in the\n",
              "      current browser session. Please rerun this cell to enable.\n",
              "      </output>\n",
              "      <script>// Copyright 2017 Google LLC\n",
              "//\n",
              "// Licensed under the Apache License, Version 2.0 (the \"License\");\n",
              "// you may not use this file except in compliance with the License.\n",
              "// You may obtain a copy of the License at\n",
              "//\n",
              "//      http://www.apache.org/licenses/LICENSE-2.0\n",
              "//\n",
              "// Unless required by applicable law or agreed to in writing, software\n",
              "// distributed under the License is distributed on an \"AS IS\" BASIS,\n",
              "// WITHOUT WARRANTIES OR CONDITIONS OF ANY KIND, either express or implied.\n",
              "// See the License for the specific language governing permissions and\n",
              "// limitations under the License.\n",
              "\n",
              "/**\n",
              " * @fileoverview Helpers for google.colab Python module.\n",
              " */\n",
              "(function(scope) {\n",
              "function span(text, styleAttributes = {}) {\n",
              "  const element = document.createElement('span');\n",
              "  element.textContent = text;\n",
              "  for (const key of Object.keys(styleAttributes)) {\n",
              "    element.style[key] = styleAttributes[key];\n",
              "  }\n",
              "  return element;\n",
              "}\n",
              "\n",
              "// Max number of bytes which will be uploaded at a time.\n",
              "const MAX_PAYLOAD_SIZE = 100 * 1024;\n",
              "\n",
              "function _uploadFiles(inputId, outputId) {\n",
              "  const steps = uploadFilesStep(inputId, outputId);\n",
              "  const outputElement = document.getElementById(outputId);\n",
              "  // Cache steps on the outputElement to make it available for the next call\n",
              "  // to uploadFilesContinue from Python.\n",
              "  outputElement.steps = steps;\n",
              "\n",
              "  return _uploadFilesContinue(outputId);\n",
              "}\n",
              "\n",
              "// This is roughly an async generator (not supported in the browser yet),\n",
              "// where there are multiple asynchronous steps and the Python side is going\n",
              "// to poll for completion of each step.\n",
              "// This uses a Promise to block the python side on completion of each step,\n",
              "// then passes the result of the previous step as the input to the next step.\n",
              "function _uploadFilesContinue(outputId) {\n",
              "  const outputElement = document.getElementById(outputId);\n",
              "  const steps = outputElement.steps;\n",
              "\n",
              "  const next = steps.next(outputElement.lastPromiseValue);\n",
              "  return Promise.resolve(next.value.promise).then((value) => {\n",
              "    // Cache the last promise value to make it available to the next\n",
              "    // step of the generator.\n",
              "    outputElement.lastPromiseValue = value;\n",
              "    return next.value.response;\n",
              "  });\n",
              "}\n",
              "\n",
              "/**\n",
              " * Generator function which is called between each async step of the upload\n",
              " * process.\n",
              " * @param {string} inputId Element ID of the input file picker element.\n",
              " * @param {string} outputId Element ID of the output display.\n",
              " * @return {!Iterable<!Object>} Iterable of next steps.\n",
              " */\n",
              "function* uploadFilesStep(inputId, outputId) {\n",
              "  const inputElement = document.getElementById(inputId);\n",
              "  inputElement.disabled = false;\n",
              "\n",
              "  const outputElement = document.getElementById(outputId);\n",
              "  outputElement.innerHTML = '';\n",
              "\n",
              "  const pickedPromise = new Promise((resolve) => {\n",
              "    inputElement.addEventListener('change', (e) => {\n",
              "      resolve(e.target.files);\n",
              "    });\n",
              "  });\n",
              "\n",
              "  const cancel = document.createElement('button');\n",
              "  inputElement.parentElement.appendChild(cancel);\n",
              "  cancel.textContent = 'Cancel upload';\n",
              "  const cancelPromise = new Promise((resolve) => {\n",
              "    cancel.onclick = () => {\n",
              "      resolve(null);\n",
              "    };\n",
              "  });\n",
              "\n",
              "  // Wait for the user to pick the files.\n",
              "  const files = yield {\n",
              "    promise: Promise.race([pickedPromise, cancelPromise]),\n",
              "    response: {\n",
              "      action: 'starting',\n",
              "    }\n",
              "  };\n",
              "\n",
              "  cancel.remove();\n",
              "\n",
              "  // Disable the input element since further picks are not allowed.\n",
              "  inputElement.disabled = true;\n",
              "\n",
              "  if (!files) {\n",
              "    return {\n",
              "      response: {\n",
              "        action: 'complete',\n",
              "      }\n",
              "    };\n",
              "  }\n",
              "\n",
              "  for (const file of files) {\n",
              "    const li = document.createElement('li');\n",
              "    li.append(span(file.name, {fontWeight: 'bold'}));\n",
              "    li.append(span(\n",
              "        `(${file.type || 'n/a'}) - ${file.size} bytes, ` +\n",
              "        `last modified: ${\n",
              "            file.lastModifiedDate ? file.lastModifiedDate.toLocaleDateString() :\n",
              "                                    'n/a'} - `));\n",
              "    const percent = span('0% done');\n",
              "    li.appendChild(percent);\n",
              "\n",
              "    outputElement.appendChild(li);\n",
              "\n",
              "    const fileDataPromise = new Promise((resolve) => {\n",
              "      const reader = new FileReader();\n",
              "      reader.onload = (e) => {\n",
              "        resolve(e.target.result);\n",
              "      };\n",
              "      reader.readAsArrayBuffer(file);\n",
              "    });\n",
              "    // Wait for the data to be ready.\n",
              "    let fileData = yield {\n",
              "      promise: fileDataPromise,\n",
              "      response: {\n",
              "        action: 'continue',\n",
              "      }\n",
              "    };\n",
              "\n",
              "    // Use a chunked sending to avoid message size limits. See b/62115660.\n",
              "    let position = 0;\n",
              "    do {\n",
              "      const length = Math.min(fileData.byteLength - position, MAX_PAYLOAD_SIZE);\n",
              "      const chunk = new Uint8Array(fileData, position, length);\n",
              "      position += length;\n",
              "\n",
              "      const base64 = btoa(String.fromCharCode.apply(null, chunk));\n",
              "      yield {\n",
              "        response: {\n",
              "          action: 'append',\n",
              "          file: file.name,\n",
              "          data: base64,\n",
              "        },\n",
              "      };\n",
              "\n",
              "      let percentDone = fileData.byteLength === 0 ?\n",
              "          100 :\n",
              "          Math.round((position / fileData.byteLength) * 100);\n",
              "      percent.textContent = `${percentDone}% done`;\n",
              "\n",
              "    } while (position < fileData.byteLength);\n",
              "  }\n",
              "\n",
              "  // All done.\n",
              "  yield {\n",
              "    response: {\n",
              "      action: 'complete',\n",
              "    }\n",
              "  };\n",
              "}\n",
              "\n",
              "scope.google = scope.google || {};\n",
              "scope.google.colab = scope.google.colab || {};\n",
              "scope.google.colab._files = {\n",
              "  _uploadFiles,\n",
              "  _uploadFilesContinue,\n",
              "};\n",
              "})(self);\n",
              "</script> "
            ],
            "text/plain": [
              "<IPython.core.display.HTML object>"
            ]
          },
          "metadata": {},
          "output_type": "display_data"
        },
        {
          "name": "stdout",
          "output_type": "stream",
          "text": [
            "Saving kaggle.json to kaggle.json\n"
          ]
        },
        {
          "data": {
            "text/plain": [
              "{'kaggle.json': b'{\"username\":\"mickyangelo\",\"key\":\"7026b1a7de58b70aacf6366363e0d718\"}'}"
            ]
          },
          "execution_count": 2,
          "metadata": {},
          "output_type": "execute_result"
        }
      ],
      "source": [
        "files.upload()"
      ]
    },
    {
      "cell_type": "code",
      "execution_count": null,
      "metadata": {
        "id": "c44UCprqLw1-"
      },
      "outputs": [],
      "source": [
        "! mkdir -p ~/.kaggle\n",
        "! cp kaggle.json ~/.kaggle/"
      ]
    },
    {
      "cell_type": "code",
      "execution_count": null,
      "metadata": {
        "id": "o_BwFPt1OUNu"
      },
      "outputs": [],
      "source": [
        "! cp kaggle.json ~/.kaggle/"
      ]
    },
    {
      "cell_type": "code",
      "execution_count": null,
      "metadata": {
        "colab": {
          "base_uri": "https://localhost:8080/"
        },
        "id": "lxU7YwCKQ1my",
        "outputId": "de660f01-b789-4071-c548-bc052b077057"
      },
      "outputs": [
        {
          "name": "stdout",
          "output_type": "stream",
          "text": [
            "kaggle.json\n"
          ]
        }
      ],
      "source": [
        "!ls ~/.kaggle\n",
        "!chmod 600 /root/.kaggle/kaggle.json"
      ]
    },
    {
      "cell_type": "code",
      "execution_count": null,
      "metadata": {
        "colab": {
          "base_uri": "https://localhost:8080/"
        },
        "id": "9U1aVX1rLwns",
        "outputId": "8d7d84c4-e36f-4b94-f461-810fc6756202"
      },
      "outputs": [
        {
          "name": "stdout",
          "output_type": "stream",
          "text": [
            "Downloading skin-cancer-mnist-ham10000.zip to /content\n",
            "100% 5.20G/5.20G [02:18<00:00, 40.9MB/s]\n",
            "100% 5.20G/5.20G [02:18<00:00, 40.5MB/s]\n"
          ]
        }
      ],
      "source": [
        "!kaggle datasets download -d kmader/skin-cancer-mnist-ham10000"
      ]
    },
    {
      "cell_type": "code",
      "execution_count": null,
      "metadata": {
        "id": "bIWo09IbLwcx"
      },
      "outputs": [],
      "source": [
        "# # Mounted all files and folders in Google Drive\n",
        "\n",
        "# from google.colab import drive \n",
        "# drive.mount('/content/gdrive')"
      ]
    },
    {
      "cell_type": "code",
      "execution_count": null,
      "metadata": {
        "id": "3O8xPjGfLwWW"
      },
      "outputs": [],
      "source": [
        "# Unzip data in Google Colab\n",
        "\n",
        "!unzip -q /content/skin-cancer-mnist-ham10000.zip -d dataset"
      ]
    },
    {
      "cell_type": "code",
      "execution_count": null,
      "metadata": {
        "id": "PlBdEOsALwQL"
      },
      "outputs": [],
      "source": [
        "# # Unzip data in Google Drive\n",
        "\n",
        "# !unzip -q /content/skin-cancer-mnist-ham10000.zip -d '/content/gdrive/My Drive/ML data'"
      ]
    },
    {
      "cell_type": "markdown",
      "metadata": {
        "id": "dkNzzGzyhmg5"
      },
      "source": [
        "##EXPLORATORY DATA ANALYSIS"
      ]
    },
    {
      "cell_type": "code",
      "execution_count": null,
      "metadata": {
        "id": "Dv4fuLB4hljj"
      },
      "outputs": [],
      "source": [
        "base_skin_dir = \"/content/dataset\"\n",
        "skin_df = pd.read_csv(os.path.join(base_skin_dir, 'HAM10000_metadata.csv')) # load in the data\n",
        "skin_df.head()"
      ]
    },
    {
      "cell_type": "code",
      "execution_count": null,
      "metadata": {
        "id": "hx4_nQ8qhlfv"
      },
      "outputs": [],
      "source": [
        "imageid_path_dict = {os.path.splitext(os.path.basename(x))[0]: x\n",
        "                     for x in glob(os.path.join(base_skin_dir, '*', '*.jpg'))}\n",
        "\n",
        "lesion_type_dict = {\n",
        "    'nv': 'Melanocytic_nevi',\n",
        "    'mel': 'melanoma',\n",
        "    'bkl': 'Benign_keratosis-like_lesions',\n",
        "    'bcc': 'Basal_cell_carcinoma',\n",
        "    'akiec': 'Actinic_keratoses',\n",
        "    'vasc': 'Vascular_lesions',\n",
        "    'df': 'Dermatofibroma'\n",
        "}\n",
        "\n",
        "lesion_danger = {\n",
        "    'nv': 0, # 0 for benign\n",
        "    'mel': 1, # 1 for malignant\n",
        "    'bkl': 0,\n",
        "    'bcc': 1,\n",
        "    'akiec': 1,\n",
        "    'vasc': 0,\n",
        "    'df': 0\n",
        "}"
      ]
    },
    {
      "cell_type": "code",
      "execution_count": null,
      "metadata": {
        "id": "ytfi0LQNhlbp"
      },
      "outputs": [],
      "source": [
        "skin_df[\"path\"] = skin_df[\"image_id\"].map(imageid_path_dict.get) # map image_id to the path of that image\n",
        "skin_df[\"path\"] = skin_df[\"image_id\"].map(imageid_path_dict.get) # map image_id to the path of that image\n",
        "skin_df[\"cell_type\"] = skin_df[\"dx\"].map(lesion_type_dict.get) # map dx to type of lesion\n",
        "skin_df['cell_type_idx'] = pd.Categorical(skin_df['cell_type']).codes\n",
        "\n",
        "skin_df.head()"
      ]
    },
    {
      "cell_type": "code",
      "execution_count": null,
      "metadata": {
        "id": "PCx14vT7vxE3"
      },
      "outputs": [],
      "source": [
        "skin_df.describe(exclude=[np.number])"
      ]
    },
    {
      "cell_type": "code",
      "execution_count": null,
      "metadata": {
        "id": "qrfprQ5phlWX"
      },
      "outputs": [],
      "source": [
        "skin_df[\"Malignant\"] = skin_df[\"dx\"].map(lesion_danger.get)\n",
        "\n",
        "skin_df.head()"
      ]
    },
    {
      "cell_type": "code",
      "execution_count": null,
      "metadata": {
        "id": "-TJX0o2uhlNg"
      },
      "outputs": [],
      "source": [
        "skin_df[\"Malignant\"].value_counts().plot(kind=\"bar\", title=\"Benign vs Malignant\")"
      ]
    },
    {
      "cell_type": "markdown",
      "metadata": {
        "id": "GqRWj6Vojaqu"
      },
      "source": [
        "#### **OBSERVATION:** Most cases represented are non-cancerous ie; BENIGN while a very small part of the data belongs to the cancerous ie; MALIGNANT class."
      ]
    },
    {
      "cell_type": "code",
      "execution_count": null,
      "metadata": {
        "id": "GTNYRTKZhlJv"
      },
      "outputs": [],
      "source": [
        "fig, ax1 = plt.subplots(1,1,figsize=(10,5))\n",
        "skin_df[\"cell_type\"].value_counts().plot(kind=\"bar\", ax=ax1, title=\"Counts for each type of Lesions\") # plot a graph counting the number of each cell type"
      ]
    },
    {
      "cell_type": "markdown",
      "metadata": {
        "id": "ItqvdyhljvoN"
      },
      "source": [
        "#### **OBSERVATIONS:** The dataset is biased towards the Melanocytic_nevi cell type. Melanocytic nevi are common and are generally harmless (benign) and this is expected since most data represented are bening too."
      ]
    },
    {
      "cell_type": "code",
      "execution_count": null,
      "metadata": {
        "colab": {
          "background_save": true
        },
        "id": "Glw-iAzOhlFf",
        "outputId": "2fbcb6cb-a68d-41df-c7cc-a60754f8d2d8"
      },
      "outputs": [
        {
          "data": {
            "text/plain": [
              "<Axes: title={'center': 'Location of Lesions'}>"
            ]
          },
          "execution_count": 17,
          "metadata": {},
          "output_type": "execute_result"
        },
        {
          "data": {
            "image/png": "[encoded data removed]",
            "text/plain": [
              "<Figure size 640x480 with 1 Axes>"
            ]
          },
          "metadata": {},
          "output_type": "display_data"
        }
      ],
      "source": [
        "# let's see where lesions are mostly located\n",
        "\n",
        "skin_df[\"localization\"].value_counts().plot(kind='bar', title=\"Location of Lesions\")"
      ]
    },
    {
      "cell_type": "markdown",
      "metadata": {
        "id": "e7lGakIZGUom"
      },
      "source": [
        "#### **OBSERVATION:** Most skin lesions occur at the back and the lower extremity regions of the body."
      ]
    },
    {
      "cell_type": "code",
      "execution_count": null,
      "metadata": {
        "colab": {
          "background_save": true
        },
        "id": "uW8wivuPhlBu",
        "outputId": "02b975ad-a1a8-4a6e-853a-66fac4734b92"
      },
      "outputs": [
        {
          "data": {
            "text/plain": [
              "<Axes: title={'center': 'Treatment received'}>"
            ]
          },
          "execution_count": 18,
          "metadata": {},
          "output_type": "execute_result"
        },
        {
          "data": {
            "image/png": "[encoded data removed]",
            "text/plain": [
              "<Figure size 640x480 with 1 Axes>"
            ]
          },
          "metadata": {},
          "output_type": "display_data"
        }
      ],
      "source": [
        "skin_df[\"dx_type\"].value_counts().plot(kind='bar', title=\"Treatment received\")"
      ]
    },
    {
      "cell_type": "markdown",
      "metadata": {
        "id": "jjf9frdRkHdY"
      },
      "source": [
        "#### **OBSERVATIONS:**\n",
        "Each dx_type has its own description:\n",
        "\n",
        "histo: \"Histopathologic diagnoses of excised lesions have been performed by specialized dermatopathologists.\"\n",
        "\n",
        "\"We accepted this as evidence of biologic benignity if nevi monitored by digital dermatoscopy did not show any changes during three follow-up visits or 1.5 years.\" Because dermatologists typically do not monitor dermatofibromas, seborrheic keratoses, or vascular lesions, only nevi were labeled with this type of ground-truth.\"\n",
        "\n",
        "\"We provide an expert consensus rating of authors PT and HK for typical benign cases without histopathology or follow-up.\" Only when both authors independently delivered the same clear benign diagnosis did we use the consensus designation. Lesions with this sort of ground-truth were often documented for educational purposes and did not require additional follow-up or biopsy.\n",
        "\n",
        "\"Reflectance confocal microscopy is an in-vivo imaging technique with a resolution at the near-cellular level, and some facial benign keratoses were verified by this method.\""
      ]
    },
    {
      "cell_type": "code",
      "execution_count": null,
      "metadata": {
        "colab": {
          "background_save": true
        },
        "id": "6jLuLdMMhk80",
        "outputId": "ad3510a8-8ce9-4bf9-e3cc-0945dfd97289"
      },
      "outputs": [
        {
          "data": {
            "text/plain": [
              "<Axes: >"
            ]
          },
          "execution_count": 19,
          "metadata": {},
          "output_type": "execute_result"
        },
        {
          "data": {
            "image/png": "[encoded data removed]",
            "text/plain": [
              "<Figure size 640x480 with 1 Axes>"
            ]
          },
          "metadata": {},
          "output_type": "display_data"
        }
      ],
      "source": [
        "# PATIENT CHARACTERISTICS & DEMOGRAPHY\n",
        "\n",
        "skin_df[\"age\"].hist(bins=50)"
      ]
    },
    {
      "cell_type": "markdown",
      "metadata": {
        "id": "zkOdpFUhHOVP"
      },
      "source": [
        "#### **OBSERVATION:** Most skin lesions affects people between the age range of 40 - 60."
      ]
    },
    {
      "cell_type": "code",
      "execution_count": null,
      "metadata": {
        "colab": {
          "background_save": true
        },
        "id": "tGi2-R5Hhk2-",
        "outputId": "ddda0874-9bbb-4fdc-f274-c3c69bfebc6d"
      },
      "outputs": [
        {
          "data": {
            "text/plain": [
              "<Axes: >"
            ]
          },
          "execution_count": 20,
          "metadata": {},
          "output_type": "execute_result"
        },
        {
          "data": {
            "image/png": "[encoded data removed]",
            "text/plain": [
              "<Figure size 640x480 with 1 Axes>"
            ]
          },
          "metadata": {},
          "output_type": "display_data"
        }
      ],
      "source": [
        "skin_df[skin_df[\"Malignant\"] == 1][\"age\"].hist(bins=40)"
      ]
    },
    {
      "cell_type": "markdown",
      "metadata": {
        "id": "RqCKyf9bKoxq"
      },
      "source": [
        "#### **OBSERVATION:** The age group 65-75 experience the malignant class of skin lesions more."
      ]
    },
    {
      "cell_type": "code",
      "execution_count": null,
      "metadata": {
        "colab": {
          "background_save": true
        },
        "id": "h_zWXIUhhkxr",
        "outputId": "4638f455-25e9-4193-e690-768a5c8a91a1"
      },
      "outputs": [
        {
          "data": {
            "text/plain": [
              "<Axes: title={'center': 'Male vs Female'}>"
            ]
          },
          "execution_count": 21,
          "metadata": {},
          "output_type": "execute_result"
        },
        {
          "data": {
            "image/png": "[encoded data removed]",
            "text/plain": [
              "<Figure size 640x480 with 1 Axes>"
            ]
          },
          "metadata": {},
          "output_type": "display_data"
        }
      ],
      "source": [
        "skin_df[\"sex\"].value_counts().plot(kind=\"bar\", title=\"Male vs Female\")"
      ]
    },
    {
      "cell_type": "markdown",
      "metadata": {
        "id": "DDK2JFNVLBjk"
      },
      "source": [
        "#### **OBSERVATION:** Our data is hugely represented by the male gender but the difference between both male and female genders is not too high."
      ]
    },
    {
      "cell_type": "code",
      "execution_count": null,
      "metadata": {
        "colab": {
          "background_save": true
        },
        "id": "HyOrcf0Xhks5",
        "outputId": "309bd75a-e5ff-4eb7-a1a0-87554d072ac1"
      },
      "outputs": [
        {
          "data": {
            "text/plain": [
              "<Axes: title={'center': 'Male vs Female. Malignant Cases'}>"
            ]
          },
          "execution_count": 22,
          "metadata": {},
          "output_type": "execute_result"
        },
        {
          "data": {
            "image/png": "[encoded data removed]",
            "text/plain": [
              "<Figure size 640x480 with 1 Axes>"
            ]
          },
          "metadata": {},
          "output_type": "display_data"
        }
      ],
      "source": [
        "skin_df[skin_df[\"Malignant\"] == 1][\"sex\"].value_counts().plot(kind=\"bar\", title=\"Male vs Female. Malignant Cases\")"
      ]
    },
    {
      "cell_type": "markdown",
      "metadata": {
        "id": "CbMQktWLke1e"
      },
      "source": [
        "#### **OBSERVATIONS:** Most malignant cases occur in the male gender."
      ]
    },
    {
      "cell_type": "markdown",
      "metadata": {
        "id": "CC07twpx-3KF"
      },
      "source": [
        "## FEATURE ENGINEERING"
      ]
    },
    {
      "cell_type": "code",
      "execution_count": null,
      "metadata": {
        "id": "RS8M-Cnihkoh"
      },
      "outputs": [],
      "source": [
        "skin_df['image'] = skin_df['path'].map(lambda x: np.asarray(Image.open(x).resize((100,75))))"
      ]
    },
    {
      "cell_type": "code",
      "execution_count": null,
      "metadata": {
        "id": "cnp8wiWwhkjL"
      },
      "outputs": [],
      "source": [
        "#Organizing dataset - input and output\n",
        "features=skin_df.drop(columns=['cell_type_idx'],axis=1)\n",
        "target=skin_df['cell_type_idx']"
      ]
    },
    {
      "cell_type": "code",
      "execution_count": null,
      "metadata": {
        "id": "HcPhi0m-hkc_"
      },
      "outputs": [],
      "source": [
        "#Traing and testing sampling\n",
        "x_train_o, x_test_o, y_train_o, y_test_o = train_test_split(features, target, test_size=0.20)"
      ]
    },
    {
      "cell_type": "code",
      "execution_count": null,
      "metadata": {
        "id": "5TxiIryCw2o8"
      },
      "outputs": [],
      "source": [
        "#Normalization - the x_train, x_test by substracting from theor mean values and then dividing by thier standard deviation.\n",
        "x_train = np.asarray(x_train_o['image'].tolist())\n",
        "x_test = np.asarray(x_test_o['image'].tolist())\n",
        "\n",
        "x_train_mean = np.mean(x_train)\n",
        "x_train_std = np.std(x_train)\n",
        "\n",
        "x_test_mean = np.mean(x_test)\n",
        "x_test_std = np.std(x_test)\n",
        "\n",
        "x_train = (x_train - x_train_mean)/x_train_std\n",
        "x_test = (x_test - x_test_mean)/x_test_std\n",
        "\n",
        "# Perform one-hot encoding on the labels\n",
        "y_train = to_categorical(y_train_o, num_classes = 7)\n",
        "y_test = to_categorical(y_test_o, num_classes = 7)\n",
        "\n",
        "#Splitting training into Train and Validate sets\n",
        "x_train, x_validate, y_train, y_validate = train_test_split(x_train, y_train, test_size = 0.1)\n",
        "\n",
        "# Reshape image in 3 dimensions (height = 75px, width = 100px , canal = 3)\n",
        "x_train = x_train.reshape(x_train.shape[0], *(75, 100, 3))\n",
        "x_test = x_test.reshape(x_test.shape[0], *(75, 100, 3))\n",
        "x_validate = x_validate.reshape(x_validate.shape[0], *(75, 100, 3))"
      ]
    },
    {
      "cell_type": "markdown",
      "metadata": {
        "id": "jliGAqA9-dJA"
      },
      "source": [
        "## TRAINING CNN ALGORITHM AS BASELINE ALGORITHM"
      ]
    },
    {
      "cell_type": "code",
      "execution_count": null,
      "metadata": {
        "id": "bE1GPvVQxAaw"
      },
      "outputs": [],
      "source": [
        "# Set the CNN model \n",
        "# my CNN architechture is In -> [[Conv2D->relu]*2 -> MaxPool2D -> Dropout]*2 -> Flatten -> Dense -> Dropout -> Out\n",
        "input_shape = (75, 100, 3)\n",
        "num_classes = 7\n",
        "\n",
        "model = Sequential()\n",
        "model.add(Conv2D(32, kernel_size=(3, 3),activation='relu',padding = 'Same',input_shape=input_shape))\n",
        "model.add(BatchNormalization())\n",
        "\n",
        "model.add(Conv2D(32,kernel_size=(3, 3), activation='relu',padding = 'Same'))\n",
        "model.add(BatchNormalization())\n",
        "model.add(AveragePooling2D(pool_size = (2, 2)))\n",
        "model.add(Dropout(0.25))\n",
        "\n",
        "model.add(Conv2D(64, (3, 3), activation='relu',padding = 'Same'))\n",
        "model.add(BatchNormalization())\n",
        "\n",
        "model.add(Conv2D(64, (3, 3), activation='relu',padding = 'Same'))\n",
        "model.add(BatchNormalization())\n",
        "model.add(AveragePooling2D(pool_size=(2, 2)))\n",
        "model.add(Dropout(0.25))\n",
        "\n",
        "##############################\n",
        "model.add(Conv2D(32,kernel_size=(3, 3), activation='relu',padding = 'Same'))\n",
        "model.add(BatchNormalization())\n",
        "model.add(AveragePooling2D(pool_size = (2, 2)))\n",
        "model.add(Dropout(0.25))\n",
        "\n",
        "model.add(Conv2D(64, (3, 3), activation='relu',padding = 'Same'))\n",
        "model.add(BatchNormalization())\n",
        "\n",
        "model.add(Conv2D(64, (3, 3), activation='relu',padding = 'Same'))\n",
        "model.add(BatchNormalization())\n",
        "model.add(AveragePooling2D(pool_size=(2, 2)))\n",
        "model.add(Dropout(0.25))\n",
        "##############################\n",
        "model.add(Flatten())\n",
        "\n",
        "model.add(BatchNormalization())\n",
        "model.add(Dense(128, activation='relu'))\n",
        "model.add(Dropout(0.25))\n",
        "\n",
        "model.add(BatchNormalization())\n",
        "model.add(Dense(num_classes, activation='softmax'))\n",
        "model.summary()"
      ]
    },
    {
      "cell_type": "code",
      "execution_count": null,
      "metadata": {
        "id": "GugmcEszxATx"
      },
      "outputs": [],
      "source": [
        "# Define the optimizer\n",
        "#optimizer = Adam(lr=0.001, beta_1=0.9, beta_2=0.999, epsilon=None, amsgrad=False)\n",
        "optimizer = SGD(lr=0.0001, momentum=0.15, nesterov=False)\n",
        "# Compile the model\n",
        "model.compile(optimizer = optimizer , loss = \"categorical_crossentropy\", metrics=[\"accuracy\"])\n",
        "\n",
        "\n",
        "# Set a learning rate annealer\n",
        "learning_rate_reduction = ReduceLROnPlateau(monitor='val_acc', \n",
        "                                            patience=3, \n",
        "                                            verbose=1, \n",
        "                                            factor=0.5, \n",
        "                                            min_lr=0.00001)"
      ]
    },
    {
      "cell_type": "code",
      "execution_count": null,
      "metadata": {
        "id": "OCUQ9HlBxAMW"
      },
      "outputs": [],
      "source": [
        "# data augmentation \n",
        "datagen = ImageDataGenerator(\n",
        "        featurewise_center=False,  # set input mean to 0 over the dataset\n",
        "        samplewise_center=False,  # set each sample mean to 0\n",
        "        featurewise_std_normalization=False,  # divide inputs by std of the dataset\n",
        "        samplewise_std_normalization=False,  # divide each input by its std\n",
        "        zca_whitening=False,  # apply ZCA whitening\n",
        "        rotation_range=90,  # randomly rotate images in the range (degrees, 0 to 180)\n",
        "        zoom_range = 0.1, # Randomly zoom image \n",
        "        width_shift_range=0.1,  # randomly shift images horizontally (fraction of total width)\n",
        "        height_shift_range=0.1,  # randomly shift images vertically (fraction of total height)\n",
        "        horizontal_flip=True,  # randomly flip images\n",
        "        vertical_flip=True,  # randomly flip images\n",
        "        shear_range = 10) "
      ]
    },
    {
      "cell_type": "code",
      "execution_count": null,
      "metadata": {
        "id": "dNfSZRuCxAEl"
      },
      "outputs": [],
      "source": [
        "datagen.fit(x_train)"
      ]
    },
    {
      "cell_type": "code",
      "execution_count": null,
      "metadata": {
        "id": "a2aW3fNuw_6k"
      },
      "outputs": [],
      "source": [
        "## Fit the model\n",
        "epochs = 25\n",
        "batch_size = 32\n",
        "history = model.fit(datagen.flow(x_train,y_train, batch_size=batch_size),\n",
        "                              epochs = epochs, validation_data = (x_validate,y_validate))"
      ]
    },
    {
      "cell_type": "code",
      "execution_count": null,
      "metadata": {
        "id": "undpr4u2w_pA"
      },
      "outputs": [],
      "source": [
        "loss, accuracy = model.evaluate(x_test, y_test, verbose=1)\n",
        "loss_v, accuracy_v = model.evaluate(x_validate, y_validate, verbose=1)\n",
        "print(\"Validation: accuracy = %f  ;  loss_v = %f\" % (accuracy_v, loss_v))\n",
        "print(\"Test: accuracy = %f  ;  loss = %f\" % (accuracy, loss))"
      ]
    },
    {
      "cell_type": "code",
      "execution_count": null,
      "metadata": {
        "id": "UMBL8wzd2-0P"
      },
      "outputs": [],
      "source": [
        "# Function to plot confusion matrix    \n",
        "def plot_confusion_matrix(cm, classes,\n",
        "                          normalize=False,\n",
        "                          title='Confusion matrix',\n",
        "                          cmap=plt.cm.Blues):\n",
        "\n",
        "    plt.imshow(cm, interpolation='nearest', cmap=cmap)\n",
        "    plt.title(title)\n",
        "    plt.colorbar()\n",
        "    tick_marks = np.arange(len(classes))\n",
        "    plt.xticks(tick_marks, classes, rotation=45)\n",
        "    plt.yticks(tick_marks, classes)\n",
        "\n",
        "    if normalize:\n",
        "        cm = cm.astype('float') / cm.sum(axis=1)[:, np.newaxis]\n",
        "\n",
        "    thresh = cm.max() / 2.\n",
        "    for i, j in itertools.product(range(cm.shape[0]), range(cm.shape[1])):\n",
        "        plt.text(j, i, cm[i, j],\n",
        "                 horizontalalignment=\"center\",\n",
        "                 color=\"white\" if cm[i, j] > thresh else \"black\")\n",
        "\n",
        "    plt.tight_layout()\n",
        "    plt.ylabel('True label')\n",
        "    plt.xlabel('Predicted label')\n",
        "\n",
        "# Predict the values from the validation dataset\n",
        "Y_pred = model.predict(x_validate)\n",
        "# Convert predictions classes to one hot vectors \n",
        "Y_pred_classes = np.argmax(Y_pred,axis = 1) \n",
        "# Convert validation observations to one hot vectors\n",
        "Y_true = np.argmax(y_validate,axis = 1) \n",
        "# compute the confusion matrix\n",
        "confusion_mtx = confusion_matrix(Y_true, Y_pred_classes)\n",
        "\n",
        "# plot the confusion matrix\n",
        "plot_confusion_matrix(confusion_mtx, classes = range(7)) \n",
        "plt.xlabel('True Label')\n",
        "plt.ylabel('Fraction classified incorrectly')\n",
        "\n",
        "#Show Classification report\n",
        "target_names = ['class 0', 'class 1', 'class 2','class 3', 'class 4', \n",
        "                'class 5', 'class 6']\n",
        "print(\"Classification report for classifier %s:\\n%s\\n\"\n",
        "      % (model, metrics.classification_report(Y_true, Y_pred_classes, target_names = target_names)))"
      ]
    },
    {
      "cell_type": "code",
      "execution_count": null,
      "metadata": {
        "id": "HdR7mYWn1FMt"
      },
      "outputs": [],
      "source": [
        "print(history.history.keys())"
      ]
    },
    {
      "cell_type": "code",
      "execution_count": null,
      "metadata": {
        "id": "R45xDdYJ8-mD"
      },
      "outputs": [],
      "source": [
        "# Retrieve a list of accuracy results on training and test data\n",
        "# sets for each training epoch\n",
        "acc = history.history['accuracy']\n",
        "val_acc = history.history['val_accuracy']\n",
        "\n",
        "# Retrieve a list of list results on training and test data\n",
        "# sets for each training epoch\n",
        "loss = history.history['loss']\n",
        "val_loss = history.history['val_loss']\n",
        "\n",
        "# Get number of epochs\n",
        "epochs = range(len(acc))\n",
        "\n",
        "# Create subplots\n",
        "fig, (ax1, ax2) = plt.subplots(1, 2, figsize=(10,5))\n",
        "\n",
        "# Plot training and validation accuracy per epoch\n",
        "ax1.plot(epochs, acc, label = \"training\")\n",
        "ax1.plot(epochs, val_acc, label = \"validation\")\n",
        "ax1.legend(loc=\"upper left\")\n",
        "ax1.set_title('Training and validation accuracy')\n",
        "\n",
        "# Plot training and validation loss per epoch\n",
        "ax2.plot(epochs, loss, label = \"training\")\n",
        "ax2.plot(epochs, val_loss, label = \"validation\")\n",
        "ax2.legend(loc=\"upper right\")\n",
        "ax2.set_title('Training and validation loss')\n",
        "\n",
        "# Display the plot\n",
        "plt.show()"
      ]
    },
    {
      "cell_type": "markdown",
      "metadata": {
        "id": "3CIaDqbw-FpT"
      },
      "source": [
        "## TRAINING INCEPTIONV3 ALGORITHM"
      ]
    },
    {
      "cell_type": "code",
      "execution_count": null,
      "metadata": {
        "id": "fsps1Ed62-lF"
      },
      "outputs": [],
      "source": [
        "input_shape = (75, 100, 3)\n",
        "\n",
        "num_labels = 7\n",
        "\n",
        "base_model = InceptionV3(include_top = False, input_shape = input_shape,pooling = 'avg', \n",
        "                         weights = 'imagenet')\n",
        "model = Sequential()\n",
        "model.add(base_model)\n",
        "model.add(Dropout(0.5))\n",
        "model.add(Dense(128, activation=\"relu\",kernel_regularizer=regularizers.l2(0.02)))\n",
        "model.add(Dropout(0.5))\n",
        "model.add(Dense(num_labels, activation = 'softmax',kernel_regularizer=regularizers.l2(0.02)))\n",
        "\n",
        "for layer in base_model.layers:\n",
        "    layer.trainable = True\n",
        "\n",
        "model.summary()"
      ]
    },
    {
      "cell_type": "code",
      "execution_count": null,
      "metadata": {
        "id": "3-KKGw2a2-aP"
      },
      "outputs": [],
      "source": [
        "#optimizer = Adam (lr=0.0005, beta_1=0.9, beta_2=0.999, epsilon=None, amsgrad=False)\n",
        "optimizer = SGD(lr=0.0001, momentum=0.15, nesterov=False)\n",
        "model.compile(optimizer = optimizer , loss = \"sparse_categorical_crossentropy\", metrics=[\"accuracy\"])"
      ]
    },
    {
      "cell_type": "code",
      "execution_count": null,
      "metadata": {
        "id": "g-Ro6SAjdf_n"
      },
      "outputs": [],
      "source": [
        "print(y_train.shape)\n",
        "print(y_validate.shape)\n"
      ]
    },
    {
      "cell_type": "code",
      "execution_count": null,
      "metadata": {
        "id": "7HGQG9Z12-Pp"
      },
      "outputs": [],
      "source": [
        "y_train = np.argmax(y_train, axis = 1)\n",
        "y_validate = np.argmax(y_validate, axis = 1)"
      ]
    },
    {
      "cell_type": "code",
      "execution_count": null,
      "metadata": {
        "id": "ME9UeP2H2-Cy"
      },
      "outputs": [],
      "source": [
        "epochs = 100 \n",
        "batch_size = 32\n",
        "history = model.fit(datagen.flow(x_train, y_train, batch_size = batch_size),\n",
        "                              epochs = epochs, validation_data = (x_validate,y_validate),\n",
        "                              verbose = 1, steps_per_epoch=x_train.shape[0] // batch_size)"
      ]
    },
    {
      "cell_type": "code",
      "execution_count": null,
      "metadata": {
        "colab": {
          "base_uri": "https://localhost:8080/"
        },
        "id": "o1drjGH4296S",
        "outputId": "8ecacaaf-bf2d-4d69-c0de-fb8baf0a756d"
      },
      "outputs": [
        {
          "name": "stdout",
          "output_type": "stream",
          "text": [
            "63/63 [==============================] - 2s 29ms/step - loss: 0.6308 - accuracy: 0.8173\n",
            "26/26 [==============================] - 0s 16ms/step - loss: 0.6755 - accuracy: 0.8117\n",
            "Validation: accuracy = 0.811721  ;  loss_v = 0.675531\n",
            "Test: accuracy = 0.817274  ;  loss = 0.630807\n"
          ]
        }
      ],
      "source": [
        "y_test = np.argmax(y_test, axis = 1)\n",
        "\n",
        "loss, accuracy = model.evaluate(x_test, y_test, verbose=1)\n",
        "loss_v, accuracy_v = model.evaluate(x_validate, y_validate, verbose=1)\n",
        "print(\"Validation: accuracy = %f  ;  loss_v = %f\" % (accuracy_v, loss_v))\n",
        "print(\"Test: accuracy = %f  ;  loss = %f\" % (accuracy, loss))"
      ]
    },
    {
      "cell_type": "code",
      "execution_count": null,
      "metadata": {
        "colab": {
          "base_uri": "https://localhost:8080/"
        },
        "id": "UefHx-fYg87d",
        "outputId": "abed88d9-b3cd-4bf8-a79b-9053392a1769"
      },
      "outputs": [
        {
          "name": "stdout",
          "output_type": "stream",
          "text": [
            "Classification report for classifier <keras.engine.sequential.Sequential object at 0x7f88addb6d40>:\n",
            "              precision    recall  f1-score   support\n",
            "\n",
            "     class 0       1.00      0.04      0.08        23\n",
            "     class 1       0.42      0.68      0.52        44\n",
            "     class 2       0.56      0.62      0.59        99\n",
            "     class 3       0.00      0.00      0.00        17\n",
            "     class 4       0.88      0.94      0.91       511\n",
            "     class 5       0.00      0.00      0.00        12\n",
            "     class 6       0.65      0.51      0.57        96\n",
            "\n",
            "    accuracy                           0.77       802\n",
            "   macro avg       0.50      0.40      0.38       802\n",
            "weighted avg       0.76      0.77      0.75       802\n",
            "\n",
            "\n"
          ]
        },
        {
          "name": "stderr",
          "output_type": "stream",
          "text": [
            "/usr/local/lib/python3.10/dist-packages/sklearn/metrics/_classification.py:1344: UndefinedMetricWarning: Precision and F-score are ill-defined and being set to 0.0 in labels with no predicted samples. Use `zero_division` parameter to control this behavior.\n",
            "  _warn_prf(average, modifier, msg_start, len(result))\n",
            "/usr/local/lib/python3.10/dist-packages/sklearn/metrics/_classification.py:1344: UndefinedMetricWarning: Precision and F-score are ill-defined and being set to 0.0 in labels with no predicted samples. Use `zero_division` parameter to control this behavior.\n",
            "  _warn_prf(average, modifier, msg_start, len(result))\n",
            "/usr/local/lib/python3.10/dist-packages/sklearn/metrics/_classification.py:1344: UndefinedMetricWarning: Precision and F-score are ill-defined and being set to 0.0 in labels with no predicted samples. Use `zero_division` parameter to control this behavior.\n",
            "  _warn_prf(average, modifier, msg_start, len(result))\n"
          ]
        }
      ],
      "source": [
        "#Show Classification report\n",
        "target_names = ['class 0', 'class 1', 'class 2','class 3', 'class 4', \n",
        "                'class 5', 'class 6']\n",
        "print(\"Classification report for classifier %s:\\n%s\\n\"\n",
        "      % (model, metrics.classification_report(Y_true, Y_pred_classes, target_names = target_names)))"
      ]
    },
    {
      "cell_type": "code",
      "execution_count": null,
      "metadata": {
        "colab": {
          "base_uri": "https://localhost:8080/"
        },
        "id": "R_pvVvte_lTC",
        "outputId": "0b883c04-9fae-47d9-9a1f-6972c2dfcda1"
      },
      "outputs": [
        {
          "name": "stdout",
          "output_type": "stream",
          "text": [
            "dict_keys(['loss', 'accuracy', 'val_loss', 'val_accuracy'])\n"
          ]
        }
      ],
      "source": [
        "print(history.history.keys())"
      ]
    },
    {
      "cell_type": "code",
      "execution_count": null,
      "metadata": {
        "colab": {
          "base_uri": "https://localhost:8080/",
          "height": 468
        },
        "id": "SaQzpA5_94FB",
        "outputId": "5620b4ab-bd6d-456a-b944-acba1471d475"
      },
      "outputs": [
        {
          "data": {
            "image/png": "[encoded data removed]",
            "text/plain": [
              "<Figure size 1000x500 with 2 Axes>"
            ]
          },
          "metadata": {},
          "output_type": "display_data"
        }
      ],
      "source": [
        "# Retrieve a list of accuracy results on training and test data\n",
        "# sets for each training epoch\n",
        "acc = history.history['accuracy']\n",
        "val_acc = history.history['val_accuracy']\n",
        "\n",
        "# Retrieve a list of list results on training and test data\n",
        "# sets for each training epoch\n",
        "loss = history.history['loss']\n",
        "val_loss = history.history['val_loss']\n",
        "\n",
        "# Get number of epochs\n",
        "epochs = range(len(acc))\n",
        "\n",
        "# Create subplots\n",
        "fig, (ax1, ax2) = plt.subplots(1, 2, figsize=(10,5))\n",
        "\n",
        "# Plot training and validation accuracy per epoch\n",
        "ax1.plot(epochs, acc, label = \"training\")\n",
        "ax1.plot(epochs, val_acc, label = \"validation\")\n",
        "ax1.legend(loc=\"upper left\")\n",
        "ax1.set_title('Training and validation accuracy')\n",
        "\n",
        "# Plot training and validation loss per epoch\n",
        "ax2.plot(epochs, loss, label = \"training\")\n",
        "ax2.plot(epochs, val_loss, label = \"validation\")\n",
        "ax2.legend(loc=\"upper right\")\n",
        "ax2.set_title('Training and validation loss')\n",
        "\n",
        "# Display the plot\n",
        "plt.show()"
      ]
    },
    {
      "cell_type": "markdown",
      "metadata": {
        "id": "f-OT7rZc97mh"
      },
      "source": [
        "## TRAINING THE XCEPTION ALGORITHM"
      ]
    },
    {
      "cell_type": "code",
      "execution_count": null,
      "metadata": {
        "colab": {
          "base_uri": "https://localhost:8080/"
        },
        "id": "CwbG7gl12913",
        "outputId": "033c91d1-da85-4045-e99c-44032e79f363"
      },
      "outputs": [
        {
          "name": "stdout",
          "output_type": "stream",
          "text": [
            "Downloading data from https://storage.googleapis.com/tensorflow/keras-applications/xception/xception_weights_tf_dim_ordering_tf_kernels_notop.h5\n",
            "83683744/83683744 [==============================] - 1s 0us/step\n",
            "Model: \"sequential_2\"\n",
            "_________________________________________________________________\n",
            " Layer (type)                Output Shape              Param #   \n",
            "=================================================================\n",
            " xception (Functional)       (None, 2048)              20861480  \n",
            "                                                                 \n",
            " dropout_7 (Dropout)         (None, 2048)              0         \n",
            "                                                                 \n",
            " dense_4 (Dense)             (None, 128)               262272    \n",
            "                                                                 \n",
            " dropout_8 (Dropout)         (None, 128)               0         \n",
            "                                                                 \n",
            " dense_5 (Dense)             (None, 7)                 903       \n",
            "                                                                 \n",
            "=================================================================\n",
            "Total params: 21,124,655\n",
            "Trainable params: 21,070,127\n",
            "Non-trainable params: 54,528\n",
            "_________________________________________________________________\n"
          ]
        }
      ],
      "source": [
        "input_shape = (75, 100, 3)\n",
        "\n",
        "num_labels = 7\n",
        "\n",
        "base_model = Xception(include_top = False, input_shape = input_shape,pooling = 'avg', \n",
        "                         weights = 'imagenet')\n",
        "model = Sequential()\n",
        "model.add(base_model)\n",
        "model.add(Dropout(0.5))\n",
        "model.add(Dense(128, activation=\"relu\",kernel_regularizer=regularizers.l2(0.02)))\n",
        "model.add(Dropout(0.5))\n",
        "model.add(Dense(num_labels, activation = 'softmax',kernel_regularizer=regularizers.l2(0.02)))\n",
        "\n",
        "for layer in base_model.layers:\n",
        "    layer.trainable = True\n",
        "\n",
        "model.summary()"
      ]
    },
    {
      "cell_type": "code",
      "execution_count": null,
      "metadata": {
        "colab": {
          "base_uri": "https://localhost:8080/"
        },
        "id": "okXyWnyp29wa",
        "outputId": "a9239908-d189-43a4-e8de-76b6a58d6c22"
      },
      "outputs": [
        {
          "name": "stderr",
          "output_type": "stream",
          "text": [
            "WARNING:absl:`lr` is deprecated in Keras optimizer, please use `learning_rate` or use the legacy optimizer, e.g.,tf.keras.optimizers.legacy.SGD.\n"
          ]
        }
      ],
      "source": [
        "optimizer = SGD(lr=0.0001, momentum=0.15, nesterov=False)\n",
        "model.compile(loss='categorical_crossentropy',\n",
        "              optimizer=optimizer,\n",
        "              metrics=['acc'])"
      ]
    },
    {
      "cell_type": "code",
      "execution_count": null,
      "metadata": {
        "id": "DV2uCMmJ29k0"
      },
      "outputs": [],
      "source": [
        "#Traing and testing sampling\n",
        "x_train_o, x_test_o, y_train_o, y_test_o = train_test_split(features, target, test_size=0.20)\n",
        "x_train = np.asarray(x_train_o['image'].tolist())\n",
        "x_test = np.asarray(x_test_o['image'].tolist())\n",
        "\n",
        "x_train_mean = np.mean(x_train)\n",
        "x_train_std = np.std(x_train)\n",
        "\n",
        "x_test_mean = np.mean(x_test)\n",
        "x_test_std = np.std(x_test)\n",
        "\n",
        "x_train = (x_train - x_train_mean)/x_train_std\n",
        "x_test = (x_test - x_test_mean)/x_test_std\n",
        "\n",
        "# Perform one-hot encoding on the labels\n",
        "y_train = to_categorical(y_train_o, num_classes = 7)\n",
        "y_test = to_categorical(y_test_o, num_classes = 7)\n",
        "\n",
        "#Splitting training into Train and Validate sets\n",
        "x_train, x_validate, y_train, y_validate = train_test_split(x_train, y_train, test_size = 0.1)\n",
        "\n",
        "# Reshape image in 3 dimensions (height = 75px, width = 100px , canal = 3)\n",
        "x_train = x_train.reshape(x_train.shape[0], *(75, 100, 3))\n",
        "x_test = x_test.reshape(x_test.shape[0], *(75, 100, 3))\n",
        "x_validate = x_validate.reshape(x_validate.shape[0], *(75, 100, 3))"
      ]
    },
    {
      "cell_type": "code",
      "execution_count": null,
      "metadata": {
        "colab": {
          "base_uri": "https://localhost:8080/"
        },
        "id": "CQNiX0lw29YX",
        "outputId": "5d3c0925-53d3-4bdd-f84c-713fc79b9c92"
      },
      "outputs": [
        {
          "name": "stdout",
          "output_type": "stream",
          "text": [
            "Epoch 1/50\n",
            "225/225 [==============================] - 43s 123ms/step - loss: 5.6835 - acc: 0.6510 - val_loss: 5.1962 - val_acc: 0.6372 - lr: 0.0100\n",
            "Epoch 2/50\n",
            "225/225 [==============================] - 23s 102ms/step - loss: 4.6318 - acc: 0.6733 - val_loss: 4.2718 - val_acc: 0.6372 - lr: 0.0100\n",
            "Epoch 3/50\n",
            "225/225 [==============================] - 23s 103ms/step - loss: 3.8909 - acc: 0.6747 - val_loss: 3.6064 - val_acc: 0.6372 - lr: 0.0100\n",
            "Epoch 4/50\n",
            "225/225 [==============================] - 23s 103ms/step - loss: 3.2926 - acc: 0.6793 - val_loss: 3.0738 - val_acc: 0.6434 - lr: 0.0100\n",
            "Epoch 5/50\n",
            "225/225 [==============================] - 24s 105ms/step - loss: 2.8211 - acc: 0.6895 - val_loss: 2.6358 - val_acc: 0.6596 - lr: 0.0100\n",
            "Epoch 6/50\n",
            "225/225 [==============================] - 23s 103ms/step - loss: 2.4319 - acc: 0.6970 - val_loss: 2.2888 - val_acc: 0.6621 - lr: 0.0100\n",
            "Epoch 7/50\n",
            "225/225 [==============================] - 24s 105ms/step - loss: 2.1121 - acc: 0.7016 - val_loss: 2.0007 - val_acc: 0.6783 - lr: 0.0100\n",
            "Epoch 8/50\n",
            "225/225 [==============================] - 23s 103ms/step - loss: 1.8659 - acc: 0.7044 - val_loss: 1.7767 - val_acc: 0.6833 - lr: 0.0100\n",
            "Epoch 9/50\n",
            "225/225 [==============================] - 24s 105ms/step - loss: 1.6493 - acc: 0.7072 - val_loss: 1.5944 - val_acc: 0.6858 - lr: 0.0100\n",
            "Epoch 10/50\n",
            "225/225 [==============================] - 23s 102ms/step - loss: 1.4834 - acc: 0.7119 - val_loss: 1.4378 - val_acc: 0.6933 - lr: 0.0100\n",
            "Epoch 11/50\n",
            "225/225 [==============================] - 22s 99ms/step - loss: 1.3433 - acc: 0.7125 - val_loss: 1.3160 - val_acc: 0.6958 - lr: 0.0100\n",
            "Epoch 12/50\n",
            "225/225 [==============================] - 23s 104ms/step - loss: 1.2266 - acc: 0.7184 - val_loss: 1.2153 - val_acc: 0.6983 - lr: 0.0100\n",
            "Epoch 13/50\n",
            "225/225 [==============================] - 24s 104ms/step - loss: 1.1383 - acc: 0.7228 - val_loss: 1.1386 - val_acc: 0.6995 - lr: 0.0100\n",
            "Epoch 14/50\n",
            "225/225 [==============================] - 23s 103ms/step - loss: 1.0496 - acc: 0.7251 - val_loss: 1.0644 - val_acc: 0.6970 - lr: 0.0100\n",
            "Epoch 15/50\n",
            "225/225 [==============================] - 24s 105ms/step - loss: 0.9964 - acc: 0.7249 - val_loss: 1.0016 - val_acc: 0.7032 - lr: 0.0100\n",
            "Epoch 16/50\n",
            "225/225 [==============================] - 23s 103ms/step - loss: 0.9399 - acc: 0.7343 - val_loss: 0.9516 - val_acc: 0.7282 - lr: 0.0100\n",
            "Epoch 17/50\n",
            "225/225 [==============================] - 23s 103ms/step - loss: 0.8903 - acc: 0.7420 - val_loss: 0.9287 - val_acc: 0.7294 - lr: 0.0100\n",
            "Epoch 18/50\n",
            "225/225 [==============================] - 24s 105ms/step - loss: 0.8603 - acc: 0.7537 - val_loss: 0.8806 - val_acc: 0.7382 - lr: 0.0100\n",
            "Epoch 19/50\n",
            "225/225 [==============================] - 23s 104ms/step - loss: 0.8240 - acc: 0.7630 - val_loss: 0.8585 - val_acc: 0.7456 - lr: 0.0100\n",
            "Epoch 20/50\n",
            "225/225 [==============================] - 23s 103ms/step - loss: 0.7907 - acc: 0.7673 - val_loss: 0.8345 - val_acc: 0.7431 - lr: 0.0100\n",
            "Epoch 21/50\n",
            "225/225 [==============================] - 23s 104ms/step - loss: 0.7678 - acc: 0.7763 - val_loss: 0.8169 - val_acc: 0.7531 - lr: 0.0100\n",
            "Epoch 22/50\n",
            "225/225 [==============================] - 23s 104ms/step - loss: 0.7540 - acc: 0.7765 - val_loss: 0.7974 - val_acc: 0.7556 - lr: 0.0100\n",
            "Epoch 23/50\n",
            "225/225 [==============================] - 23s 99ms/step - loss: 0.7461 - acc: 0.7731 - val_loss: 0.7948 - val_acc: 0.7544 - lr: 0.0100\n",
            "Epoch 24/50\n",
            "225/225 [==============================] - 24s 104ms/step - loss: 0.7135 - acc: 0.7832 - val_loss: 0.7861 - val_acc: 0.7544 - lr: 0.0100\n",
            "Epoch 25/50\n",
            "225/225 [==============================] - ETA: 0s - loss: 0.7070 - acc: 0.7856\n",
            "Epoch 25: ReduceLROnPlateau reducing learning rate to 0.004999999888241291.\n",
            "225/225 [==============================] - 23s 103ms/step - loss: 0.7070 - acc: 0.7856 - val_loss: 0.7677 - val_acc: 0.7506 - lr: 0.0100\n",
            "Epoch 26/50\n",
            "225/225 [==============================] - 23s 101ms/step - loss: 0.6965 - acc: 0.7855 - val_loss: 0.7622 - val_acc: 0.7569 - lr: 0.0050\n",
            "Epoch 27/50\n",
            "225/225 [==============================] - 23s 102ms/step - loss: 0.6846 - acc: 0.7923 - val_loss: 0.7690 - val_acc: 0.7556 - lr: 0.0050\n",
            "Epoch 28/50\n",
            "225/225 [==============================] - 23s 103ms/step - loss: 0.6824 - acc: 0.7889 - val_loss: 0.7556 - val_acc: 0.7581 - lr: 0.0050\n",
            "Epoch 29/50\n",
            "225/225 [==============================] - 24s 108ms/step - loss: 0.6707 - acc: 0.7956 - val_loss: 0.7652 - val_acc: 0.7606 - lr: 0.0050\n",
            "Epoch 30/50\n",
            "225/225 [==============================] - 23s 103ms/step - loss: 0.6715 - acc: 0.7924 - val_loss: 0.7484 - val_acc: 0.7606 - lr: 0.0050\n",
            "Epoch 31/50\n",
            "225/225 [==============================] - 23s 103ms/step - loss: 0.6533 - acc: 0.7995 - val_loss: 0.7533 - val_acc: 0.7668 - lr: 0.0050\n",
            "Epoch 32/50\n",
            "225/225 [==============================] - 23s 101ms/step - loss: 0.6557 - acc: 0.7992 - val_loss: 0.7329 - val_acc: 0.7544 - lr: 0.0050\n",
            "Epoch 33/50\n",
            "225/225 [==============================] - 23s 101ms/step - loss: 0.6418 - acc: 0.8011 - val_loss: 0.7338 - val_acc: 0.7706 - lr: 0.0050\n",
            "Epoch 34/50\n",
            "225/225 [==============================] - 23s 101ms/step - loss: 0.6378 - acc: 0.8038 - val_loss: 0.7323 - val_acc: 0.7731 - lr: 0.0050\n",
            "Epoch 35/50\n",
            "225/225 [==============================] - 23s 100ms/step - loss: 0.6450 - acc: 0.8006 - val_loss: 0.7293 - val_acc: 0.7756 - lr: 0.0050\n",
            "Epoch 36/50\n",
            "225/225 [==============================] - 23s 100ms/step - loss: 0.6248 - acc: 0.8066 - val_loss: 0.7241 - val_acc: 0.7643 - lr: 0.0050\n",
            "Epoch 37/50\n",
            "225/225 [==============================] - 23s 100ms/step - loss: 0.6306 - acc: 0.8073 - val_loss: 0.7261 - val_acc: 0.7706 - lr: 0.0050\n",
            "225/225 [==============================] - ETA: 0s - loss: 0.6137 - acc: 0.8094\n",
            "Epoch 38: ReduceLROnPlateau reducing learning rate to 0.0024999999441206455.\n",
            "225/225 [==============================] - 23s 102ms/step - loss: 0.6137 - acc: 0.8094 - val_loss: 0.7332 - val_acc: 0.7718 - lr: 0.0050\n",
            "Epoch 39/50\n",
            "225/225 [==============================] - 23s 101ms/step - loss: 0.6077 - acc: 0.8130 - val_loss: 0.7249 - val_acc: 0.7681 - lr: 0.0025\n",
            "Epoch 40/50\n",
            "225/225 [==============================] - 22s 100ms/step - loss: 0.6143 - acc: 0.8130 - val_loss: 0.7241 - val_acc: 0.7718 - lr: 0.0025\n",
            "Epoch 41/50\n",
            "225/225 [==============================] - ETA: 0s - loss: 0.6126 - acc: 0.8125\n",
            "Epoch 41: ReduceLROnPlateau reducing learning rate to 0.0012499999720603228.\n",
            "225/225 [==============================] - 23s 100ms/step - loss: 0.6126 - acc: 0.8125 - val_loss: 0.7281 - val_acc: 0.7693 - lr: 0.0025\n",
            "Epoch 42/50\n",
            "225/225 [==============================] - 23s 101ms/step - loss: 0.6131 - acc: 0.8110 - val_loss: 0.7243 - val_acc: 0.7718 - lr: 0.0012\n",
            "Epoch 43/50\n",
            "225/225 [==============================] - 23s 100ms/step - loss: 0.6031 - acc: 0.8136 - val_loss: 0.7203 - val_acc: 0.7681 - lr: 0.0012\n",
            "Epoch 44/50\n",
            "225/225 [==============================] - ETA: 0s - loss: 0.6034 - acc: 0.8129\n",
            "Epoch 44: ReduceLROnPlateau reducing learning rate to 0.0006249999860301614.\n",
            "225/225 [==============================] - 23s 100ms/step - loss: 0.6034 - acc: 0.8129 - val_loss: 0.7227 - val_acc: 0.7731 - lr: 0.0012\n",
            "Epoch 45/50\n",
            "225/225 [==============================] - 23s 103ms/step - loss: 0.6005 - acc: 0.8172 - val_loss: 0.7237 - val_acc: 0.7743 - lr: 6.2500e-04\n",
            "Epoch 46/50\n",
            "225/225 [==============================] - 23s 101ms/step - loss: 0.6067 - acc: 0.8110 - val_loss: 0.7236 - val_acc: 0.7756 - lr: 6.2500e-04\n",
            "Epoch 47/50\n",
            "225/225 [==============================] - ETA: 0s - loss: 0.6035 - acc: 0.8123\n",
            "Epoch 47: ReduceLROnPlateau reducing learning rate to 0.0003124999930150807.\n",
            "225/225 [==============================] - 23s 103ms/step - loss: 0.6035 - acc: 0.8123 - val_loss: 0.7230 - val_acc: 0.7731 - lr: 6.2500e-04\n",
            "Epoch 48/50\n",
            "225/225 [==============================] - 23s 101ms/step - loss: 0.6044 - acc: 0.8144 - val_loss: 0.7247 - val_acc: 0.7743 - lr: 3.1250e-04\n",
            "Epoch 49/50\n",
            "225/225 [==============================] - 23s 103ms/step - loss: 0.5921 - acc: 0.8213 - val_loss: 0.7236 - val_acc: 0.7718 - lr: 3.1250e-04\n",
            "Epoch 50/50\n",
            "225/225 [==============================] - ETA: 0s - loss: 0.6091 - acc: 0.8123\n",
            "Epoch 50: ReduceLROnPlateau reducing learning rate to 0.00015624999650754035.\n",
            "225/225 [==============================] - 23s 100ms/step - loss: 0.6091 - acc: 0.8123 - val_loss: 0.7216 - val_acc: 0.7743 - lr: 3.1250e-04\n"
          ]
        }
      ],
      "source": [
        "epochs =  50\n",
        "batch_size = 32\n",
        "history = model.fit(datagen.flow(x_train, y_train, batch_size = batch_size),\n",
        "                              epochs = epochs, validation_data = (x_validate,y_validate),\n",
        "                              verbose = 1, steps_per_epoch=x_train.shape[0] // batch_size,\n",
        "                    validation_steps=(x_validate.shape[0] // batch_size),\n",
        "                    callbacks=[learning_rate_reduction])"
      ]
    },
    {
      "cell_type": "code",
      "execution_count": null,
      "metadata": {
        "id": "IcjPtC9Y29SF"
      },
      "outputs": [],
      "source": [
        "# Function to plot confusion matrix    \n",
        "def plot_confusion_matrix(cm, classes,\n",
        "                          normalize=False,\n",
        "                          title='Confusion matrix',\n",
        "                          cmap=plt.cm.Blues):\n",
        "\n",
        "    plt.imshow(cm, interpolation='nearest', cmap=cmap)\n",
        "    plt.title(title)\n",
        "    plt.colorbar()\n",
        "    tick_marks = np.arange(len(classes))\n",
        "    plt.xticks(tick_marks, classes, rotation=45)\n",
        "    plt.yticks(tick_marks, classes)\n",
        "\n",
        "    if normalize:\n",
        "        cm = cm.astype('float') / cm.sum(axis=1)[:, np.newaxis]\n",
        "\n",
        "    thresh = cm.max() / 2.\n",
        "    for i, j in itertools.product(range(cm.shape[0]), range(cm.shape[1])):\n",
        "        plt.text(j, i, cm[i, j],\n",
        "                 horizontalalignment=\"center\",\n",
        "                 color=\"white\" if cm[i, j] > thresh else \"black\")\n",
        "\n",
        "    plt.tight_layout()\n",
        "    plt.ylabel('True label')\n",
        "    plt.xlabel('Predicted label')"
      ]
    },
    {
      "cell_type": "code",
      "execution_count": null,
      "metadata": {
        "colab": {
          "base_uri": "https://localhost:8080/",
          "height": 925
        },
        "id": "wNok3K5t29Kg",
        "outputId": "f0259d3b-0664-4ebc-9fd9-0a5015c7b645"
      },
      "outputs": [
        {
          "name": "stdout",
          "output_type": "stream",
          "text": [
            "26/26 [==============================] - 2s 36ms/step\n",
            "Classification report for classifier <keras.engine.sequential.Sequential object at 0x7f88addb6d40>:\n",
            "              precision    recall  f1-score   support\n",
            "\n",
            "     class 0       1.00      0.04      0.08        23\n",
            "     class 1       0.42      0.68      0.52        44\n",
            "     class 2       0.56      0.62      0.59        99\n",
            "     class 3       0.00      0.00      0.00        17\n",
            "     class 4       0.88      0.94      0.91       511\n",
            "     class 5       0.00      0.00      0.00        12\n",
            "     class 6       0.65      0.51      0.57        96\n",
            "\n",
            "    accuracy                           0.77       802\n",
            "   macro avg       0.50      0.40      0.38       802\n",
            "weighted avg       0.76      0.77      0.75       802\n",
            "\n",
            "\n"
          ]
        },
        {
          "name": "stderr",
          "output_type": "stream",
          "text": [
            "/usr/local/lib/python3.10/dist-packages/sklearn/metrics/_classification.py:1344: UndefinedMetricWarning: Precision and F-score are ill-defined and being set to 0.0 in labels with no predicted samples. Use `zero_division` parameter to control this behavior.\n",
            "  _warn_prf(average, modifier, msg_start, len(result))\n",
            "/usr/local/lib/python3.10/dist-packages/sklearn/metrics/_classification.py:1344: UndefinedMetricWarning: Precision and F-score are ill-defined and being set to 0.0 in labels with no predicted samples. Use `zero_division` parameter to control this behavior.\n",
            "  _warn_prf(average, modifier, msg_start, len(result))\n",
            "/usr/local/lib/python3.10/dist-packages/sklearn/metrics/_classification.py:1344: UndefinedMetricWarning: Precision and F-score are ill-defined and being set to 0.0 in labels with no predicted samples. Use `zero_division` parameter to control this behavior.\n",
            "  _warn_prf(average, modifier, msg_start, len(result))\n"
          ]
        },
        {
          "data": {
            "image/png": "[encoded data removed]",
            "text/plain": [
              "<Figure size 640x480 with 2 Axes>"
            ]
          },
          "metadata": {},
          "output_type": "display_data"
        }
      ],
      "source": [
        "# Predict the values from the validation dataset\n",
        "Y_pred = model.predict(x_validate)\n",
        "# Convert predictions classes to one hot vectors \n",
        "Y_pred_classes = np.argmax(Y_pred,axis = 1) \n",
        "# Convert validation observations to one hot vectors\n",
        "Y_true = np.argmax(y_validate,axis = 1) \n",
        "# compute the confusion matrix\n",
        "confusion_mtx = confusion_matrix(Y_true, Y_pred_classes)\n",
        "\n",
        "# plot the confusion matrix\n",
        "plot_confusion_matrix(confusion_mtx, classes = range(7)) \n",
        "plt.xlabel('True Label')\n",
        "plt.ylabel('Fraction classified incorrectly')\n",
        "\n",
        "#Show Classification report\n",
        "target_names = ['class 0', 'class 1', 'class 2','class 3', 'class 4', \n",
        "                'class 5', 'class 6']\n",
        "print(\"Classification report for classifier %s:\\n%s\\n\"\n",
        "      % (model, metrics.classification_report(Y_true, Y_pred_classes, target_names = target_names)))"
      ]
    },
    {
      "cell_type": "code",
      "execution_count": null,
      "metadata": {
        "id": "03YS5G-528-X"
      },
      "outputs": [],
      "source": [
        "model.save('Xception.h5')"
      ]
    },
    {
      "cell_type": "code",
      "execution_count": null,
      "metadata": {
        "colab": {
          "base_uri": "https://localhost:8080/",
          "height": 468
        },
        "id": "0OwIzaZe28vO",
        "outputId": "34f88b13-a5b4-4f57-9251-5f4fc873932f"
      },
      "outputs": [
        {
          "data": {
            "image/png": "[encoded data removed]",
            "text/plain": [
              "<Figure size 1000x500 with 2 Axes>"
            ]
          },
          "metadata": {},
          "output_type": "display_data"
        }
      ],
      "source": [
        "# Retrieve a list of accuracy results on training and test data\n",
        "# sets for each training epoch\n",
        "acc = history.history['acc']\n",
        "val_acc = history.history['val_acc']\n",
        "\n",
        "# Retrieve a list of list results on training and test data\n",
        "# sets for each training epoch\n",
        "loss = history.history['loss']\n",
        "val_loss = history.history['val_loss']\n",
        "\n",
        "# Get number of epochs\n",
        "epochs = range(len(acc))\n",
        "\n",
        "# Create subplots\n",
        "fig, (ax1, ax2) = plt.subplots(1, 2, figsize=(10,5))\n",
        "\n",
        "# Plot training and validation accuracy per epoch\n",
        "ax1.plot(epochs, acc, label = \"training\")\n",
        "ax1.plot(epochs, val_acc, label = \"validation\")\n",
        "ax1.legend(loc=\"upper left\")\n",
        "ax1.set_title('Training and validation accuracy')\n",
        "\n",
        "# Plot training and validation loss per epoch\n",
        "ax2.plot(epochs, loss, label = \"training\")\n",
        "ax2.plot(epochs, val_loss, label = \"validation\")\n",
        "ax2.legend(loc=\"upper right\")\n",
        "ax2.set_title('Training and validation loss')\n",
        "\n",
        "# Display the plot\n",
        "plt.show()"
      ]
    },
    {
      "cell_type": "code",
      "execution_count": null,
      "metadata": {
        "id": "PyWBKN7428mt"
      },
      "outputs": [],
      "source": [
        "np.save('x_train.npy', x_train)\n",
        "np.save('y_train.npy', y_train)\n",
        "np.save('x_validate.npy', x_validate)\n",
        "np.save('y_validate.npy', x_validate)\n",
        "np.save('x_test.npy', x_test)\n",
        "np.save('y_test.npy', x_test)"
      ]
    },
    {
      "cell_type": "code",
      "execution_count": null,
      "metadata": {
        "id": "DUKBjFpQ7PlB"
      },
      "outputs": [],
      "source": []
    }
  ],
  "metadata": {
    "accelerator": "GPU",
    "colab": {
      "provenance": []
    },
    "gpuClass": "standard",
    "kernelspec": {
      "display_name": "Python 3",
      "name": "python3"
    },
    "language_info": {
      "name": "python"
    }
  },
  "nbformat": 4,
  "nbformat_minor": 0
}